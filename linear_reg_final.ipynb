{
 "cells": [
  {
   "cell_type": "code",
   "execution_count": null,
   "id": "6fdfe073",
   "metadata": {},
   "outputs": [],
   "source": [
    "import pandas as pd\n",
    "import warnings\n"
   ]
  },
  {
   "cell_type": "code",
   "execution_count": null,
   "id": "4a04030c",
   "metadata": {},
   "outputs": [],
   "source": [
    "warnings.filterwarnings('ignore')"
   ]
  },
  {
   "cell_type": "code",
   "execution_count": null,
   "id": "828f58f9",
   "metadata": {},
   "outputs": [],
   "source": [
    "bikes=pd.read_csv('day.csv')   #importing data set"
   ]
  },
  {
   "cell_type": "markdown",
   "id": "ceda41bd",
   "metadata": {},
   "source": [
    "#  Reading and Understanding the Data"
   ]
  },
  {
   "cell_type": "code",
   "execution_count": null,
   "id": "93d9984f",
   "metadata": {},
   "outputs": [],
   "source": [
    "bikes.head(5)   #Inspect first few rows"
   ]
  },
  {
   "cell_type": "code",
   "execution_count": null,
   "id": "6f637b94",
   "metadata": {},
   "outputs": [],
   "source": [
    "#check the shape\n",
    "bikes.shape"
   ]
  },
  {
   "cell_type": "code",
   "execution_count": null,
   "id": "d9f2d80d",
   "metadata": {},
   "outputs": [],
   "source": [
    "bikes.info()  "
   ]
  },
  {
   "cell_type": "code",
   "execution_count": null,
   "id": "a2aa604e",
   "metadata": {},
   "outputs": [],
   "source": [
    "bikes.describe()          #description  of numerical data"
   ]
  },
  {
   "cell_type": "code",
   "execution_count": null,
   "id": "9d08add6",
   "metadata": {},
   "outputs": [],
   "source": [
    "#checking for null values\n",
    "bikes.isnull().sum()"
   ]
  },
  {
   "cell_type": "markdown",
   "id": "13343a7b",
   "metadata": {},
   "source": [
    "### Dropping columns not useful for analysis"
   ]
  },
  {
   "cell_type": "markdown",
   "id": "fb0b6585",
   "metadata": {},
   "source": [
    "1. 'dteday' consists of the date on which records are takens and are unique. it doesnt contribute to our analysis\\\n",
    "2. 'instant' is just a row instance identifier.\\\n",
    "3. 'registered' and 'casual' variables are not available at the time of prediction.And we see 'casual'+'registered'=target column, which leads to data leakage."
   ]
  },
  {
   "cell_type": "code",
   "execution_count": null,
   "id": "ed4068e5",
   "metadata": {},
   "outputs": [],
   "source": [
    "bikes.drop(['instant','dteday','registered','casual'],axis=1,inplace=True)"
   ]
  },
  {
   "cell_type": "markdown",
   "id": "8031502d",
   "metadata": {},
   "source": [
    "# Visualising the Data"
   ]
  },
  {
   "cell_type": "code",
   "execution_count": null,
   "id": "b25ea71a",
   "metadata": {},
   "outputs": [],
   "source": [
    "import matplotlib.pyplot as plt\n",
    "import seaborn as sns"
   ]
  },
  {
   "cell_type": "code",
   "execution_count": null,
   "id": "cc3b6c53",
   "metadata": {},
   "outputs": [],
   "source": [
    "#checking the trends of temp, atemp, hum, windspeed with target column\n",
    "sns.pairplot(bikes[['temp','hum','atemp','windspeed','cnt']])\n",
    "plt.show();"
   ]
  },
  {
   "cell_type": "markdown",
   "id": "e1c9bab8",
   "metadata": {},
   "source": [
    "1. we see high correlation of temp with atemp\\\n",
    "2. we see temp and atemp has somewhat linear relation with the target column 'cnt\\\n"
   ]
  },
  {
   "cell_type": "code",
   "execution_count": null,
   "id": "31d68f17",
   "metadata": {},
   "outputs": [],
   "source": [
    "# checking for outliers\n",
    "plt.figure(figsize=(20,5))\n",
    "plt.subplot(1,4,1)\n",
    "sns.boxplot(bikes['temp'])\n",
    "plt.subplot(1,4,2)\n",
    "sns.boxplot(bikes['atemp'])\n",
    "plt.subplot(1,4,3)\n",
    "sns.boxplot(bikes['hum'])\n",
    "plt.subplot(1,4,4)\n",
    "sns.boxplot(bikes['windspeed'])\n",
    "plt.show()\n"
   ]
  },
  {
   "cell_type": "code",
   "execution_count": null,
   "id": "dde29094",
   "metadata": {},
   "outputs": [],
   "source": [
    "# month wise bike demand\n",
    "plt.figure(figsize=(15,12))\n",
    "sns.boxplot(y='cnt',x='mnth',data=bikes,hue='yr')\n",
    "plt.show()"
   ]
  },
  {
   "cell_type": "markdown",
   "id": "d6513ed2",
   "metadata": {},
   "source": [
    "1. There is considerable rise in the number of bike users every month in 2019 than the last year \\\n",
    "2. the number of bike users increase every month from januray to june and from july to dec there is seen a decrease in users every year."
   ]
  },
  {
   "cell_type": "code",
   "execution_count": null,
   "id": "31ba3484",
   "metadata": {},
   "outputs": [],
   "source": [
    "# comparing bike demands year wise, on weekdays\n",
    "sns.boxplot(y='cnt',x='weekday',data=bikes,hue='yr')\n",
    "plt.grid()\n",
    "plt.show()"
   ]
  },
  {
   "cell_type": "code",
   "execution_count": null,
   "id": "a64b5a08",
   "metadata": {},
   "outputs": [],
   "source": [
    "# comparing bike demands year wise, on weekdays\n",
    "sns.boxplot(y='cnt',x='holiday',data=bikes,hue='yr')\n",
    "plt.show()"
   ]
  },
  {
   "cell_type": "code",
   "execution_count": null,
   "id": "ed12019d",
   "metadata": {},
   "outputs": [],
   "source": [
    "# scatter plot showing trends of temperature on count of rented bikes over  the year 2018 and 2019\n",
    "sns.scatterplot(x='temp',y='cnt',data=bikes,hue='yr')\n",
    "plt.show()"
   ]
  },
  {
   "cell_type": "markdown",
   "id": "03ca1a90",
   "metadata": {},
   "source": [
    "1. higher temperature indicates more bike users"
   ]
  },
  {
   "cell_type": "markdown",
   "id": "2667cb8a",
   "metadata": {},
   "source": [
    "# Data Preparation"
   ]
  },
  {
   "cell_type": "code",
   "execution_count": null,
   "id": "2e814cc7",
   "metadata": {},
   "outputs": [],
   "source": [
    "bikes.head(4)"
   ]
  },
  {
   "cell_type": "markdown",
   "id": "f5fdbdec",
   "metadata": {},
   "source": [
    "   **CONVERTING 'season' , 'weathersit' , 'mnth' , 'weekday'  to  categorical  column**"
   ]
  },
  {
   "cell_type": "code",
   "execution_count": null,
   "id": "7c010edc",
   "metadata": {},
   "outputs": [],
   "source": [
    "# converting 'season' , 'weathersit' , 'mnth' , 'weekday'  to categorical columns.\n",
    "\n",
    "bikes.season.replace({1:\"spring\", 2:\"summer\", 3:\"fall\", 4:\"winter\"},inplace = True)\n",
    "\n",
    "bikes.weathersit.replace({1:'good',2:'moderate',3:'bad',4:'severe'},inplace = True)\n",
    "\n",
    "bikes.mnth.replace({1: 'jan',2: 'feb',3: 'mar',4: 'apr',5: 'may',6: 'jun',\n",
    "                  7: 'jul',8: 'aug',9: 'sept',10: 'oct',11: 'nov',12: 'dec'},inplace=True)\n",
    "\n",
    "bikes.weekday.replace({0: 'sun',1: 'mon',2: 'tue',3: 'wed',4: 'thu',5: 'fri',6: 'sat'},inplace=True)\n",
    "bikes.head()"
   ]
  },
  {
   "cell_type": "markdown",
   "id": "4bb85058",
   "metadata": {},
   "source": [
    "**Creating dummy variables for 'season' , 'weathersit' , 'mnth' , 'weekday' columns**"
   ]
  },
  {
   "cell_type": "code",
   "execution_count": null,
   "id": "c50094bb",
   "metadata": {},
   "outputs": [],
   "source": [
    "# creating dummy variables\n",
    "dumies=pd.get_dummies(bikes[['season','mnth','weekday','weathersit']],drop_first=True,prefix_sep='-')   \n",
    "# dropping the first to avoid multicolinearity"
   ]
  },
  {
   "cell_type": "code",
   "execution_count": null,
   "id": "91198cc9",
   "metadata": {},
   "outputs": [],
   "source": [
    "# concating the dummy variables to the bikes data frame.\n",
    "bikes=pd.concat([dumies,bikes],axis=1) \n",
    "bikes.head(5)"
   ]
  },
  {
   "cell_type": "code",
   "execution_count": null,
   "id": "9e47c290",
   "metadata": {},
   "outputs": [],
   "source": [
    "# dropping the columns 'weekday','season','weathersit','mnth' as dummies of these have been created\n",
    "bikes.drop(['weekday','season','weathersit','mnth'],axis=1,inplace=True)"
   ]
  },
  {
   "cell_type": "code",
   "execution_count": null,
   "id": "057738b0",
   "metadata": {},
   "outputs": [],
   "source": [
    "bikes.columns   # taking a look at the columns after concating"
   ]
  },
  {
   "cell_type": "markdown",
   "id": "ee5f48d9",
   "metadata": {},
   "source": [
    "# Splitting the Data into Training and Testing Sets"
   ]
  },
  {
   "cell_type": "code",
   "execution_count": null,
   "id": "38cbb516",
   "metadata": {},
   "outputs": [],
   "source": [
    "from sklearn.model_selection import train_test_split"
   ]
  },
  {
   "cell_type": "code",
   "execution_count": null,
   "id": "9bd430c4",
   "metadata": {},
   "outputs": [],
   "source": [
    "bikes1=bikes.copy()"
   ]
  },
  {
   "cell_type": "code",
   "execution_count": null,
   "id": "9d17d2b4",
   "metadata": {},
   "outputs": [],
   "source": [
    "#splitting into train and test set\n",
    "train,test=train_test_split(bikes1,test_size=0.30,random_state=47)  \n"
   ]
  },
  {
   "cell_type": "markdown",
   "id": "58f568a0",
   "metadata": {},
   "source": [
    "# feature scaling"
   ]
  },
  {
   "cell_type": "code",
   "execution_count": null,
   "id": "a062cbc3",
   "metadata": {},
   "outputs": [],
   "source": [
    "from sklearn.preprocessing import MinMaxScaler"
   ]
  },
  {
   "cell_type": "markdown",
   "id": "092e02a4",
   "metadata": {},
   "source": [
    "It is important to have all the variables on the same scale for the model to be easily interpretable. We can use standardization or normalization so that the units of the coefficients obtained are all on the same scale.\n"
   ]
  },
  {
   "cell_type": "code",
   "execution_count": null,
   "id": "92e7c9b9",
   "metadata": {},
   "outputs": [],
   "source": [
    "scaler=MinMaxScaler()   "
   ]
  },
  {
   "cell_type": "code",
   "execution_count": null,
   "id": "35d47111",
   "metadata": {},
   "outputs": [],
   "source": [
    "x=['temp','atemp','hum','windspeed']  # list of numerical columns we want to scale"
   ]
  },
  {
   "cell_type": "code",
   "execution_count": null,
   "id": "ff01d05d",
   "metadata": {},
   "outputs": [],
   "source": [
    "train[x]=scaler.fit_transform(train[x]) # scalling the train set"
   ]
  },
  {
   "cell_type": "code",
   "execution_count": null,
   "id": "b57a28c7",
   "metadata": {},
   "outputs": [],
   "source": [
    "train"
   ]
  },
  {
   "cell_type": "code",
   "execution_count": null,
   "id": "fd850ee2",
   "metadata": {},
   "outputs": [],
   "source": [
    "test[x]=scaler.transform(test[x])  #scalling the test data"
   ]
  },
  {
   "cell_type": "code",
   "execution_count": null,
   "id": "d069b7ce",
   "metadata": {},
   "outputs": [],
   "source": [
    "test"
   ]
  },
  {
   "cell_type": "code",
   "execution_count": null,
   "id": "b59b4d81",
   "metadata": {},
   "outputs": [],
   "source": [
    "# checking the correlation of different columns \n",
    "plt.figure(figsize = (30, 30))\n",
    "sns.heatmap(train.corr(), annot = True, cmap=\"YlGnBu\")\n",
    "plt.show()"
   ]
  },
  {
   "cell_type": "markdown",
   "id": "32fecf2e",
   "metadata": {},
   "source": [
    "cnt column has linear realtionship with atemp\n"
   ]
  },
  {
   "cell_type": "code",
   "execution_count": null,
   "id": "450cc552",
   "metadata": {},
   "outputs": [],
   "source": [
    "#checking the relationship of 'atemp' column with the target variable\n",
    "sns.regplot(x='atemp',y='cnt',data=train)\n",
    "plt.show()"
   ]
  },
  {
   "cell_type": "markdown",
   "id": "86ac78ce",
   "metadata": {},
   "source": [
    "### Now we will seperate the target variable from the test and train dataframes"
   ]
  },
  {
   "cell_type": "code",
   "execution_count": null,
   "id": "c204f7a5",
   "metadata": {},
   "outputs": [],
   "source": [
    "y_train=train.iloc[:,-1] \n",
    "x_train=train.iloc[:,:-1]"
   ]
  },
  {
   "cell_type": "code",
   "execution_count": null,
   "id": "7883fef4",
   "metadata": {},
   "outputs": [],
   "source": [
    "y_test=test.iloc[:,-1]\n",
    "x_test=test.iloc[:,:-1]"
   ]
  },
  {
   "cell_type": "code",
   "execution_count": null,
   "id": "69f3dbe5",
   "metadata": {},
   "outputs": [],
   "source": [
    "y_train=pd.DataFrame(y_train)"
   ]
  },
  {
   "cell_type": "code",
   "execution_count": null,
   "id": "ccf33684",
   "metadata": {},
   "outputs": [],
   "source": [
    "y_test=pd.DataFrame(y_test)"
   ]
  },
  {
   "cell_type": "markdown",
   "id": "fb6d1030",
   "metadata": {},
   "source": [
    "# Building model using statsmodel, for the detailed statistics"
   ]
  },
  {
   "cell_type": "code",
   "execution_count": null,
   "id": "67b9f160",
   "metadata": {},
   "outputs": [],
   "source": [
    "import statsmodels.api as sm"
   ]
  },
  {
   "cell_type": "markdown",
   "id": "634c8e1c",
   "metadata": {},
   "source": [
    "### Creating model using all the independent variables"
   ]
  },
  {
   "cell_type": "code",
   "execution_count": null,
   "id": "2acd000e",
   "metadata": {},
   "outputs": [],
   "source": [
    "x_train2=sm.add_constant(x_train)    # adding a constant variable"
   ]
  },
  {
   "cell_type": "code",
   "execution_count": null,
   "id": "5c7cddb8",
   "metadata": {},
   "outputs": [],
   "source": [
    "lm=sm.OLS(y_train,x_train2).fit()    # running the linear model\n",
    "print(lm.summary())"
   ]
  },
  {
   "cell_type": "markdown",
   "id": "8774ed20",
   "metadata": {},
   "source": [
    "#### OBSERVATIONS\n",
    "1. **The R-squared value is 0.847.**\n",
    "2. **But we have high p-values for 'weekday-thu','mnth-aug','season-summer','mnth-jun','mnth-mar','mnth-oct','weekday-sun','atemp'columns which shows these columns are not significant.   \n",
    "Dropping the insinificant columns**"
   ]
  },
  {
   "cell_type": "code",
   "execution_count": null,
   "id": "8f278a54",
   "metadata": {},
   "outputs": [],
   "source": [
    "# list of columns to drop\n",
    "x=['weekday-thu','mnth-aug','season-summer','mnth-jun','mnth-mar','mnth-oct','weekday-sun','atemp']"
   ]
  },
  {
   "cell_type": "markdown",
   "id": "16d91bed",
   "metadata": {},
   "source": [
    "### Dropping the variable and updating the model"
   ]
  },
  {
   "cell_type": "code",
   "execution_count": null,
   "id": "707af90f",
   "metadata": {},
   "outputs": [],
   "source": [
    "x_train3=x_train.drop(x,axis=1)     #dropping the columns with high p-value"
   ]
  },
  {
   "cell_type": "code",
   "execution_count": null,
   "id": "656af6f4",
   "metadata": {},
   "outputs": [],
   "source": [
    "x_train4=sm.add_constant(x_train3)\n",
    "lm=sm.OLS(y_train,x_train4).fit()           # running the linear model\n",
    "print(lm.summary())\n"
   ]
  },
  {
   "cell_type": "markdown",
   "id": "0ee91c3c",
   "metadata": {},
   "source": [
    "#### observations\n",
    "1. R squared is 0.846\n",
    "2. we do not see any significant change in R squared after dropping columns.\n",
    "3. 'weekday-wed' has p-value 0.29\n",
    "4. we now check for multicolinearity among the dependent variables"
   ]
  },
  {
   "cell_type": "code",
   "execution_count": null,
   "id": "3bcdae1f",
   "metadata": {},
   "outputs": [],
   "source": [
    "from statsmodels.stats.outliers_influence import variance_inflation_factor"
   ]
  },
  {
   "cell_type": "code",
   "execution_count": null,
   "id": "9603f3e5",
   "metadata": {},
   "outputs": [],
   "source": [
    "# checking vif for multicolinearity\n",
    "VIF1=pd.DataFrame()\n",
    "VIF1['columns']=x_train3.columns\n",
    "VIF1['vif']=list(map(lambda x:variance_inflation_factor(x_train3,x),range(x_train3.shape[1])))\n",
    "VIF1.sort_values(by='vif',ascending=False)"
   ]
  },
  {
   "cell_type": "markdown",
   "id": "a2aec812",
   "metadata": {},
   "source": [
    "#### OBSERVATIONS\n",
    "'weathersit-moderate','temp','weathersit-good','hum','workingday' : these columns have VIF score greater 5\\\n",
    "**we will now drop these columns one by one and check the multicolinearity and performance of our model**\n"
   ]
  },
  {
   "cell_type": "markdown",
   "id": "80a516d4",
   "metadata": {},
   "source": [
    "**dropping 'weathersit-moderate' column**"
   ]
  },
  {
   "cell_type": "markdown",
   "id": "9d96ab84",
   "metadata": {},
   "source": [
    "### Dropping the variable and updating the model"
   ]
  },
  {
   "cell_type": "code",
   "execution_count": null,
   "id": "34487b8a",
   "metadata": {},
   "outputs": [],
   "source": [
    "x_train3.drop('weathersit-moderate',axis=1,inplace=True)     #dropping the columns weathersit-moderate"
   ]
  },
  {
   "cell_type": "code",
   "execution_count": null,
   "id": "ef8ad244",
   "metadata": {},
   "outputs": [],
   "source": [
    "x_train5=sm.add_constant(x_train3)\n",
    "lm=sm.OLS(y_train,x_train5).fit()       #running the linear model\n",
    "print(lm.summary())"
   ]
  },
  {
   "cell_type": "markdown",
   "id": "48caae56",
   "metadata": {},
   "source": [
    "1. R squared is 0.833\n",
    "2. we do not see any significant change in R squared after dropping columns.\n",
    "3. we now check for multicolinearity among the dependent variables"
   ]
  },
  {
   "cell_type": "code",
   "execution_count": null,
   "id": "7738d916",
   "metadata": {},
   "outputs": [],
   "source": [
    "# checking vif for multicolinearity\n",
    "VIF2=pd.DataFrame()\n",
    "VIF2['columns']=x_train3.columns\n",
    "VIF2['vif']=list(map(lambda x:variance_inflation_factor(x_train3,x),range(x_train3.shape[1])))\n",
    "VIF2.sort_values(by='vif',ascending=False)"
   ]
  },
  {
   "cell_type": "markdown",
   "id": "81aa3270",
   "metadata": {},
   "source": [
    "#### OBSERVATIONS\n",
    "'temp','hum','workingday' : these columns have VIF score greater 5\\\n",
    "**'weekday-wed' has p-value 0.45**"
   ]
  },
  {
   "cell_type": "markdown",
   "id": "f0b5c32a",
   "metadata": {},
   "source": [
    "**dropping 'weekday-wed\t' column**"
   ]
  },
  {
   "cell_type": "markdown",
   "id": "5e9693ed",
   "metadata": {},
   "source": [
    "### Dropping the variable and updating the model"
   ]
  },
  {
   "cell_type": "code",
   "execution_count": null,
   "id": "a7cba29d",
   "metadata": {},
   "outputs": [],
   "source": [
    "x_train3.drop('weekday-wed',axis=1,inplace=True)    #dropping 'weekday-wed' column"
   ]
  },
  {
   "cell_type": "code",
   "execution_count": null,
   "id": "7bd40300",
   "metadata": {},
   "outputs": [],
   "source": [
    "x_train6=sm.add_constant(x_train3)\n",
    "lm=sm.OLS(y_train,x_train6).fit()     # running the linear model\n",
    "print(lm.summary())"
   ]
  },
  {
   "cell_type": "markdown",
   "id": "b7969295",
   "metadata": {},
   "source": [
    "#### OBSERVATIONS\n",
    "1. R squared is 0.833\n",
    "2. we do not see any significant change in R squared after dropping columns.\n",
    "3. we now check for multicolinearity among the dependent variables"
   ]
  },
  {
   "cell_type": "code",
   "execution_count": null,
   "id": "5a5dee5b",
   "metadata": {},
   "outputs": [],
   "source": [
    "# checking vif for multicolinearity\n",
    "VIF3=pd.DataFrame()\n",
    "VIF3['columns']=x_train3.columns\n",
    "VIF3['vif']=list(map(lambda x:variance_inflation_factor(x_train3,x),range(x_train3.shape[1])))\n",
    "VIF3.sort_values(by='vif',ascending=False)"
   ]
  },
  {
   "cell_type": "markdown",
   "id": "bb6ef54c",
   "metadata": {},
   "source": [
    "#### OBSERVATIONS\n",
    "'temp','hum','workingday' : these columns have VIF score greater 5\\\n",
    "**dropping 'workingday\t' column and then creating a model**"
   ]
  },
  {
   "cell_type": "markdown",
   "id": "b31ac64d",
   "metadata": {},
   "source": [
    "### Dropping the variable and updating the model"
   ]
  },
  {
   "cell_type": "code",
   "execution_count": null,
   "id": "81803b26",
   "metadata": {},
   "outputs": [],
   "source": [
    "x_train3.drop('workingday',axis=1,inplace=True)    #dropping 'workingday' column"
   ]
  },
  {
   "cell_type": "code",
   "execution_count": null,
   "id": "9866b45c",
   "metadata": {},
   "outputs": [],
   "source": [
    "x_train8=sm.add_constant(x_train3)\n",
    "lm=sm.OLS(y_train,x_train8).fit()       #running the linear model\n",
    "print(lm.summary())"
   ]
  },
  {
   "cell_type": "markdown",
   "id": "08d1f244",
   "metadata": {},
   "source": [
    "1. R squared is 0.832\n",
    "2. we do not see any significant change in R squared after dropping columns.\n",
    "3. we see high p-value for weekday-sat column (0.68)\n",
    "4. we now check for multicolinearity among the dependent variables"
   ]
  },
  {
   "cell_type": "code",
   "execution_count": null,
   "id": "5733a0e7",
   "metadata": {},
   "outputs": [],
   "source": [
    "# checking vif for multicolinearity\n",
    "VIF4=pd.DataFrame()\n",
    "VIF4['columns']=x_train3.columns\n",
    "VIF4['vif']=list(map(lambda x:variance_inflation_factor(x_train3,x),range(x_train3.shape[1])))\n",
    "VIF4.sort_values(by='vif',ascending=False)"
   ]
  },
  {
   "cell_type": "markdown",
   "id": "88146fc8",
   "metadata": {},
   "source": [
    "dropping 'weekday-sat' column as it has high p value"
   ]
  },
  {
   "cell_type": "markdown",
   "id": "c1c8ffd3",
   "metadata": {},
   "source": [
    "### Dropping the variable and updating the model"
   ]
  },
  {
   "cell_type": "code",
   "execution_count": null,
   "id": "15c2bb35",
   "metadata": {},
   "outputs": [],
   "source": [
    "# dropping 'weekday-sat' column as it has high p value\n",
    "x_train3.drop('weekday-sat',axis=1,inplace=True)"
   ]
  },
  {
   "cell_type": "code",
   "execution_count": null,
   "id": "3106903a",
   "metadata": {},
   "outputs": [],
   "source": [
    "# creating another model using after dropping the column 'weekday-sat' \n",
    "x_train8=sm.add_constant(x_train3)\n",
    "lm=sm.OLS(y_train,x_train8).fit()       #running the linear model\n",
    "print(lm.summary())"
   ]
  },
  {
   "cell_type": "markdown",
   "id": "2c727923",
   "metadata": {},
   "source": [
    "1. R squared is 0.832\n",
    "2. we do not see any significant change in R squared after dropping column 'weekday-sat'.\n",
    "3. we see p-value of all the dependent variables are less 0.05\n",
    "4. we now check for multicolinearity among the dependent variables"
   ]
  },
  {
   "cell_type": "code",
   "execution_count": null,
   "id": "c9d6386e",
   "metadata": {},
   "outputs": [],
   "source": [
    "# checking vif for multicolinearity\n",
    "VIF4=pd.DataFrame()\n",
    "VIF4['columns']=x_train3.columns\n",
    "VIF4['vif']=list(map(lambda x:variance_inflation_factor(x_train3,x),range(x_train3.shape[1])))\n",
    "VIF4.sort_values(by='vif',ascending=False)"
   ]
  },
  {
   "cell_type": "markdown",
   "id": "0430cd08",
   "metadata": {},
   "source": [
    "'temp','hum' : these columns have VIF score greater 5\\\n",
    "**dropping 'hum'  column and then creating a model**"
   ]
  },
  {
   "cell_type": "markdown",
   "id": "8ceb1a42",
   "metadata": {},
   "source": [
    "### Dropping the variable and updating the model"
   ]
  },
  {
   "cell_type": "code",
   "execution_count": null,
   "id": "b8a56e72",
   "metadata": {},
   "outputs": [],
   "source": [
    "# dropping 'hum' column as it has high vif value\n",
    "x_train3.drop('hum',axis=1,inplace=True)"
   ]
  },
  {
   "cell_type": "code",
   "execution_count": null,
   "id": "410e5ea8",
   "metadata": {},
   "outputs": [],
   "source": [
    "# creating another model using after dropping the column 'weekday-sat' \n",
    "x_train8=sm.add_constant(x_train3)\n",
    "lm=sm.OLS(y_train,x_train8).fit()       #running the linear model\n",
    "print(lm.summary())"
   ]
  },
  {
   "cell_type": "markdown",
   "id": "20eeedfe",
   "metadata": {},
   "source": [
    "1. R squared is 0.817\n",
    "2. we see high p-value for 'mnth-may' column (0.34)\n"
   ]
  },
  {
   "cell_type": "markdown",
   "id": "fd1bf9b0",
   "metadata": {},
   "source": [
    "### Dropping 'mnth-may' column and creating model again"
   ]
  },
  {
   "cell_type": "code",
   "execution_count": null,
   "id": "1b1b65cd",
   "metadata": {},
   "outputs": [],
   "source": [
    "# dropping 'hum' column as it has high vif value\n",
    "x_train3.drop('mnth-may',axis=1,inplace=True)"
   ]
  },
  {
   "cell_type": "code",
   "execution_count": null,
   "id": "74ce79fc",
   "metadata": {},
   "outputs": [],
   "source": [
    "# creating another model using after dropping the column 'weekday-sat' \n",
    "x_train8=sm.add_constant(x_train3)\n",
    "lm=sm.OLS(y_train,x_train8).fit()       #running the linear model\n",
    "print(lm.summary())"
   ]
  },
  {
   "cell_type": "markdown",
   "id": "b75bf51d",
   "metadata": {},
   "source": [
    "1. R squared is 0.817\n",
    "2. we see  p-value for 'mnth-sept' column greater 0.05"
   ]
  },
  {
   "cell_type": "markdown",
   "id": "491e815c",
   "metadata": {},
   "source": [
    "### Dropping 'mnth-sept' column and creating model again"
   ]
  },
  {
   "cell_type": "code",
   "execution_count": null,
   "id": "00823533",
   "metadata": {},
   "outputs": [],
   "source": [
    "# dropping 'hum' column as it has high vif value\n",
    "x_train3.drop('mnth-sept',axis=1,inplace=True)"
   ]
  },
  {
   "cell_type": "code",
   "execution_count": null,
   "id": "92de46fb",
   "metadata": {},
   "outputs": [],
   "source": [
    "# creating another model using after dropping the column 'weekday-sat' \n",
    "x_train8=sm.add_constant(x_train3)\n",
    "lm=sm.OLS(y_train,x_train8).fit()       #running the linear model\n",
    "print(lm.summary())"
   ]
  },
  {
   "cell_type": "code",
   "execution_count": null,
   "id": "6e2295a4",
   "metadata": {},
   "outputs": [],
   "source": [
    "#we now check for multicolinearity among the dependent variables"
   ]
  },
  {
   "cell_type": "code",
   "execution_count": null,
   "id": "f4ba273a",
   "metadata": {},
   "outputs": [],
   "source": [
    "# checking vif for multicolinearity\n",
    "VIF4=pd.DataFrame()\n",
    "VIF4['columns']=x_train3.columns\n",
    "VIF4['vif']=list(map(lambda x:variance_inflation_factor(x_train3,x),range(x_train3.shape[1])))\n",
    "VIF4.sort_values(by='vif',ascending=False)"
   ]
  },
  {
   "cell_type": "markdown",
   "id": "c03823b5",
   "metadata": {},
   "source": [
    "**we see all the dependent variables have vif in acceptable range**"
   ]
  },
  {
   "cell_type": "code",
   "execution_count": null,
   "id": "8d32e6c0",
   "metadata": {},
   "outputs": [],
   "source": [
    "x_train3.columns"
   ]
  },
  {
   "cell_type": "markdown",
   "id": "47b7d14e",
   "metadata": {},
   "source": [
    "***Doing feature selection using RFE to compare the columns we got through manual process with the automated one***"
   ]
  },
  {
   "cell_type": "code",
   "execution_count": null,
   "id": "fbc18734",
   "metadata": {},
   "outputs": [],
   "source": [
    "# Importing RFE and LinearRegression\n",
    "from sklearn.feature_selection import RFE\n",
    "from sklearn.linear_model import LinearRegression"
   ]
  },
  {
   "cell_type": "code",
   "execution_count": null,
   "id": "3e7328da",
   "metadata": {},
   "outputs": [],
   "source": [
    "lr=LinearRegression()\n",
    "lr.fit(x_train,y_train)\n",
    "rfe=RFE(estimator=lr,n_features_to_select=15)\n",
    "rfe.fit(x_train,y_train)"
   ]
  },
  {
   "cell_type": "code",
   "execution_count": null,
   "id": "49b3a2d5",
   "metadata": {},
   "outputs": [],
   "source": [
    "list(zip(x_train.columns,rfe.ranking_,rfe.support_))"
   ]
  },
  {
   "cell_type": "code",
   "execution_count": null,
   "id": "f30355a1",
   "metadata": {},
   "outputs": [],
   "source": [
    "cols=x_train.columns[rfe.support_]"
   ]
  },
  {
   "cell_type": "code",
   "execution_count": null,
   "id": "eebf7a21",
   "metadata": {},
   "outputs": [],
   "source": [
    "cols    # independent variables we got through rfe"
   ]
  },
  {
   "cell_type": "code",
   "execution_count": null,
   "id": "970e8984",
   "metadata": {},
   "outputs": [],
   "source": [
    "x_train3.columns"
   ]
  },
  {
   "cell_type": "markdown",
   "id": "cb66ac06",
   "metadata": {},
   "source": [
    "**So we see the set of independent variables we got though manual feature elimination is almost same as  that of \n",
    "RFE method**"
   ]
  },
  {
   "cell_type": "code",
   "execution_count": null,
   "id": "aaee01de",
   "metadata": {},
   "outputs": [],
   "source": [
    "# features we chooose for prediction\n",
    "x_train3.columns"
   ]
  },
  {
   "cell_type": "markdown",
   "id": "ee7d06bc",
   "metadata": {},
   "source": [
    "# Residual Analysis of the train data"
   ]
  },
  {
   "cell_type": "markdown",
   "id": "5ca501b4",
   "metadata": {},
   "source": [
    "So, now to check if the error terms are also normally distributed (which is infact, one of the major assumptions of linear regression), let us plot the histogram of the error terms and see what it looks like."
   ]
  },
  {
   "cell_type": "code",
   "execution_count": null,
   "id": "cd442121",
   "metadata": {},
   "outputs": [],
   "source": [
    "y_train_cnt = lm.predict(x_train8)"
   ]
  },
  {
   "cell_type": "code",
   "execution_count": null,
   "id": "a3f6c9b1",
   "metadata": {},
   "outputs": [],
   "source": [
    "sns.distplot(y_train['cnt']-y_train_cnt)\n",
    "plt.xlabel('error')\n",
    "plt.title('Distribution of error')\n",
    "plt.show()"
   ]
  },
  {
   "cell_type": "code",
   "execution_count": null,
   "id": "f95ca213",
   "metadata": {},
   "outputs": [],
   "source": [
    "# plotting qq-plot to check if the eroor is normally distributed\n",
    "sm.qqplot(y_train['cnt']-y_train_cnt,fit=True,line='45')"
   ]
  },
  {
   "cell_type": "markdown",
   "id": "370aadef",
   "metadata": {},
   "source": [
    "### Check for Homoscedasticity"
   ]
  },
  {
   "cell_type": "markdown",
   "id": "e7c57204",
   "metadata": {},
   "source": [
    "Homoscedasticity means that the residuals have equal or almost equal variance across the regression line. By plotting the error terms with predicted terms we can check that there should not be any pattern in the error terms"
   ]
  },
  {
   "cell_type": "code",
   "execution_count": null,
   "id": "9b27b9ac",
   "metadata": {},
   "outputs": [],
   "source": [
    "sns.scatterplot(y_train_cnt,y_train_cnt-y_train['cnt'])\n",
    "plt.xlabel('y_pred/predicted values')\n",
    "plt.ylabel('Residuals')\n",
    "plt.show()"
   ]
  },
  {
   "cell_type": "markdown",
   "id": "55c8fd71",
   "metadata": {},
   "source": [
    "# To evaluaate the model, we are going to check the r2 score "
   ]
  },
  {
   "cell_type": "code",
   "execution_count": null,
   "id": "eabe1d75",
   "metadata": {},
   "outputs": [],
   "source": [
    "var=x_train3.columns    # columns we want to make predictions on.\n",
    "n=x_test.shape[0]       \n",
    "d=len(var)\n",
    "test_x=x_test[var]  # filtering columns from test set on which we want to make predictions  "
   ]
  },
  {
   "cell_type": "code",
   "execution_count": null,
   "id": "0cd361c9",
   "metadata": {},
   "outputs": [],
   "source": [
    "test1=sm.add_constant(test_x)   #adding constant column to the test data set"
   ]
  },
  {
   "cell_type": "code",
   "execution_count": null,
   "id": "f4750631",
   "metadata": {},
   "outputs": [],
   "source": [
    "y_pred=lm.predict(test1)    # making prediction on the test set"
   ]
  },
  {
   "cell_type": "code",
   "execution_count": null,
   "id": "74afe42f",
   "metadata": {},
   "outputs": [],
   "source": [
    "from sklearn.metrics import r2_score\n",
    "r2=r2_score(y_test, y_pred)   #checking R2 score for test data\n",
    "adj_r2=1-((1-r2)*(n-1))/(n-d-1)"
   ]
  },
  {
   "cell_type": "code",
   "execution_count": null,
   "id": "9f7eba59",
   "metadata": {},
   "outputs": [],
   "source": [
    "print(r2)\n",
    "print(adj_r2)\n"
   ]
  },
  {
   "cell_type": "markdown",
   "id": "60531738",
   "metadata": {},
   "source": [
    "# Model Evaluation"
   ]
  },
  {
   "cell_type": "markdown",
   "id": "2dc47bb6",
   "metadata": {},
   "source": [
    "Let's now plot the graph for actual versus predicted values."
   ]
  },
  {
   "cell_type": "code",
   "execution_count": null,
   "id": "728b3478",
   "metadata": {},
   "outputs": [],
   "source": [
    "fig = plt.figure()\n",
    "sns.scatterplot(y_test['cnt'],y_pred)\n",
    "fig.suptitle('y_test vs y_pred', fontsize = 20)\n",
    "plt.xlabel('y_test', fontsize = 18)                         \n",
    "plt.ylabel('y_pred', fontsize = 16) \n",
    "plt.show()"
   ]
  },
  {
   "cell_type": "markdown",
   "id": "65e56140",
   "metadata": {},
   "source": [
    "# The equation of our best fitted line:"
   ]
  },
  {
   "cell_type": "code",
   "execution_count": null,
   "id": "2707639a",
   "metadata": {},
   "outputs": [],
   "source": [
    "lm.params"
   ]
  },
  {
   "cell_type": "markdown",
   "id": "3f7c2f9d",
   "metadata": {},
   "source": [
    "Target variable = 1894.15 + (season-spring * (-725.82)) + (season-winter * 533.92) + (mnth-dec * (-531.77)) + (mnth-feb * (-463.36)) + (mnth-jan * (-555.55)) + (mnth-jul * (-580.38)) + (mnth-nov * -572.84) + (weekday-mon * (-320.90))+ (weekday-tue *(-245.31)) + (weathersit-good * 727.62) + (yr * (2111.66)) + (holiday * (-799.94)) + (temp * (3616.33)) + (windspeed*(-1428.60))\n"
   ]
  },
  {
   "cell_type": "markdown",
   "id": "7a6a6b6b",
   "metadata": {},
   "source": [
    "From above coefficients of features having highest magnitude are the top features affecting our bikes demand.\\\n",
    "Top 5 of them are as follows\n",
    "1. temp(coef =3616.32)\n",
    "2. yr(Coefficient= 2111.65)\n",
    "3. windspeed(coef=-1428.59)\n",
    "4. holiday(coef= -799.93)\n",
    "5. season-spring(coef= -725.82)"
   ]
  },
  {
   "cell_type": "code",
   "execution_count": null,
   "id": "bb13252c",
   "metadata": {},
   "outputs": [],
   "source": [
    "# R squared score and Adjusted R squared score for x_test\n",
    "print(r2)\n",
    "print(adj_r2)"
   ]
  }
 ],
 "metadata": {
  "kernelspec": {
   "display_name": "Python 3 (ipykernel)",
   "language": "python",
   "name": "python3"
  },
  "language_info": {
   "codemirror_mode": {
    "name": "ipython",
    "version": 3
   },
   "file_extension": ".py",
   "mimetype": "text/x-python",
   "name": "python",
   "nbconvert_exporter": "python",
   "pygments_lexer": "ipython3",
   "version": "3.9.13"
  }
 },
 "nbformat": 4,
 "nbformat_minor": 5
}
